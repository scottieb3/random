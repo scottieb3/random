{
 "cells": [
  {
   "cell_type": "code",
   "execution_count": 1,
   "metadata": {
    "collapsed": true
   },
   "outputs": [],
   "source": [
    "import numpy as np"
   ]
  },
  {
   "cell_type": "code",
   "execution_count": 2,
   "metadata": {
    "collapsed": false
   },
   "outputs": [],
   "source": [
    "#given coordinates and direction, increment based on direction\n",
    "#ignore boundaries\n",
    "def go_to_next(a,b,d):\n",
    "    result = {\n",
    "        'right' : [0,1],\n",
    "        'down':  [1,0],\n",
    "        'left': [0, -1],\n",
    "        'up': [-1, 0]\n",
    "    }\n",
    "    movement = result[direction[d]]\n",
    "    a = a + movement[0]\n",
    "    b = b + movement[1]\n",
    "    return a,b\n",
    "    \n",
    "#given point & direction, return legal direction\n",
    "def at_edge(a,b,d):\n",
    "    try:\n",
    "        a_next, b_next = go_to_next(a,b,d)\n",
    "\n",
    "        #if a legal move and still zero, this is where to go next\n",
    "        if my_matrix[a_next, b_next] == 0:\n",
    "            return a_next, b_next, d\n",
    "        #if legal move and non-zero, change direction and try again\n",
    "        else:\n",
    "            return at_edge(a,b, (d+1) % 4)\n",
    "        \n",
    "    #not a legal move (on the edge)\n",
    "    except:\n",
    "        return at_edge(a,b, (d+1) % 4)"
   ]
  },
  {
   "cell_type": "code",
   "execution_count": 3,
   "metadata": {
    "collapsed": false
   },
   "outputs": [],
   "source": [
    "#arbitrary starting matrix (global variables)\n",
    "m = 30\n",
    "n = 12\n",
    "\n",
    "my_matrix = np.zeros(shape = (m,n))\n",
    "\n",
    "direction = ['right', 'down', 'left', 'up']"
   ]
  },
  {
   "cell_type": "code",
   "execution_count": 4,
   "metadata": {
    "collapsed": false
   },
   "outputs": [
    {
     "name": "stdout",
     "output_type": "stream",
     "text": [
      "starting\n",
      "30th iteration\n",
      "60th iteration\n",
      "90th iteration\n",
      "120th iteration\n",
      "150th iteration\n",
      "180th iteration\n",
      "210th iteration\n",
      "240th iteration\n",
      "270th iteration\n",
      "300th iteration\n",
      "330th iteration\n",
      "360th iteration\n",
      "finished\n"
     ]
    }
   ],
   "source": [
    "#hey, let's not kill ourselves if this is wrong\n",
    "cutoff = m * n + 1\n",
    "\n",
    "#initialize\n",
    "i = 0\n",
    "m_i = 0\n",
    "n_i = 0\n",
    "d_i = 0\n",
    "\n",
    "#this will always increment to show the trail\n",
    "tracker = 1 \n",
    "\n",
    "print('starting')\n",
    "while (i < cutoff) & (my_matrix.min() == 0):\n",
    "\n",
    "    #iterate our safety check\n",
    "    i+=1\n",
    "    \n",
    "    #status check\n",
    "    if i%m == 0:\n",
    "        print(str(i) + 'th iteration')\n",
    "    \n",
    "    #convert current value\n",
    "    my_matrix[m_i, n_i] = tracker\n",
    "    tracker += 1\n",
    "    \n",
    "    #are we done?\n",
    "    if my_matrix.min() > 0:\n",
    "        print('finished')\n",
    "        break\n",
    "    \n",
    "    #pick where to go next, \n",
    "    m_i, n_i, d_i = at_edge(m_i, n_i, d_i)"
   ]
  },
  {
   "cell_type": "code",
   "execution_count": 9,
   "metadata": {
    "collapsed": false
   },
   "outputs": [],
   "source": [
    "import seaborn as sns\n",
    "import matplotlib.pyplot as plt\n",
    "%matplotlib inline"
   ]
  },
  {
   "cell_type": "code",
   "execution_count": 10,
   "metadata": {
    "collapsed": false
   },
   "outputs": [
    {
     "data": {
      "text/plain": [
       "<matplotlib.axes._subplots.AxesSubplot at 0x112b7b470>"
      ]
     },
     "execution_count": 10,
     "metadata": {},
     "output_type": "execute_result"
    },
    {
     "data": {
      "image/png": "[encoded data removed]",
      "text/plain": [
       "<matplotlib.figure.Figure at 0x112b66198>"
      ]
     },
     "metadata": {},
     "output_type": "display_data"
    }
   ],
   "source": [
    "#visualize\n",
    "sns.heatmap(my_matrix)"
   ]
  }
 ],
 "metadata": {
  "kernelspec": {
   "display_name": "Python 3",
   "language": "python",
   "name": "python3"
  },
  "language_info": {
   "codemirror_mode": {
    "name": "ipython",
    "version": 3
   },
   "file_extension": ".py",
   "mimetype": "text/x-python",
   "name": "python",
   "nbconvert_exporter": "python",
   "pygments_lexer": "ipython3",
   "version": "3.5.2"
  }
 },
 "nbformat": 4,
 "nbformat_minor": 2
}
